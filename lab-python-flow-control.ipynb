{
 "cells": [
  {
   "cell_type": "markdown",
   "id": "d3bfc191-8885-42ee-b0a0-bbab867c6f9f",
   "metadata": {
    "tags": []
   },
   "source": [
    "# Lab | Flow Control"
   ]
  },
  {
   "cell_type": "markdown",
   "id": "3851fcd1-cf98-4653-9c89-e003b7ec9400",
   "metadata": {},
   "source": [
    "## Exercise: Managing Customer Orders Optimized\n",
    "\n",
    "In the last lab, you were starting an online store that sells various products. To ensure smooth operations, you developed a program that manages customer orders and inventory.\n",
    "\n",
    "You did so without using flow control. Let's go a step further and improve this code.\n",
    "\n",
    "Follow the steps below to complete the exercise:\n",
    "\n",
    "1. Look at your code from the lab data structures, and improve repeated code with loops.\n",
    "\n",
    "2. Instead of asking the user to input the name of three products that a customer wants to order, do the following:\n",
    "    \n",
    "    a. Prompt the user to enter the name of a product that a customer wants to order.\n",
    "    \n",
    "    b. Add the product name to the \"customer_orders\" set.\n",
    "    \n",
    "    c. Ask the user if they want to add another product (yes/no).\n",
    "    \n",
    "    d. Continue the loop until the user does not want to add another product.\n",
    "\n",
    "3. Instead of updating the inventory by subtracting 1 from the quantity of each product, only do it for  the products that were ordered (those in \"customer_orders\")."
   ]
  },
  {
   "cell_type": "code",
   "execution_count": 1,
   "id": "2180c6f5",
   "metadata": {},
   "outputs": [],
   "source": [
    "# 1. Look at your code from the lab data structures, and improve repeated code with loops.\n",
    "\n",
    "   # 1: Define a list of products\n",
    "products = [\"t-shirt\", \"mug\", \"hat\", \"book\", \"keychain\"]\n",
    "\n",
    "   # 2: Create an empty dictionary for inventory\n",
    "inventory = {}\n",
    "\n",
    "   # 3: Ask the user to input the quantity of each product available in the inventory\n",
    "for product in products:\n",
    "    quantity = int(input(f\"Enter the quantity of {product} available in inventory: \"))\n",
    "    inventory[product] = quantity"
   ]
  },
  {
   "cell_type": "code",
   "execution_count": 2,
   "id": "9a4e17ef",
   "metadata": {},
   "outputs": [],
   "source": [
    "# 2. Instead of asking the user to input the name of three products that a customer wants to order, do the following:\n",
    "    # a. Prompt the user to enter the name of a product that a customer wants to order.\n",
    "    # b. Add the product name to the \"customer_orders\" set.\n",
    "    # c. Ask the user if they want to add another product (yes/no).\n",
    "    # d. Continue the loop until the user does not want to add another product.\n",
    "  \n",
    "   # Step 4: Create an empty set for customer orders\n",
    "customer_orders = set()\n",
    "\n",
    "add_more = 'yes'\n",
    "\n",
    "while add_more == 'yes':\n",
    "    order = input(\"Enter a product the customer wants to order: \").lower()  # Prompt for product name\n",
    "    if order in products:\n",
    "        customer_orders.add(order)  # Add to customer orders if valid\n",
    "    else:\n",
    "        print(\"Invalid product. Please choose a valid product from the list.\")\n",
    "    \n",
    "    # Ask if they want to add another product\n",
    "    add_more = input(\"Add another product? (yes/no): \").lower()"
   ]
  },
  {
   "cell_type": "code",
   "execution_count": 3,
   "id": "a82147e1",
   "metadata": {},
   "outputs": [
    {
     "name": "stdout",
     "output_type": "stream",
     "text": [
      "Customer's Order:\n",
      "hat\n",
      "mug\n",
      "book\n"
     ]
    }
   ],
   "source": [
    "# 3. Instead of updating the inventory by subtracting 1 from the quantity of each product, only do it for  the products that were ordered (those in \"customer_orders\").\n",
    "\n",
    "# Step 6: Print the products in the customer orders set\n",
    "print(\"Customer's Order:\")\n",
    "for order in customer_orders:\n",
    "    print(order)"
   ]
  },
  {
   "cell_type": "code",
   "execution_count": 4,
   "id": "8781207c",
   "metadata": {},
   "outputs": [
    {
     "data": {
      "text/plain": [
       "(3, 60.0)"
      ]
     },
     "execution_count": 4,
     "metadata": {},
     "output_type": "execute_result"
    }
   ],
   "source": [
    "# Step 7: Calculate the order statistics\n",
    "total_products_ordered = len(customer_orders)\n",
    "percentage_ordered = (total_products_ordered / len(products)) * 100\n",
    "\n",
    "# Create the order status tuple\n",
    "order_status = (total_products_ordered, percentage_ordered)\n",
    "order_status"
   ]
  },
  {
   "cell_type": "code",
   "execution_count": 5,
   "id": "fed4b8a3",
   "metadata": {},
   "outputs": [
    {
     "name": "stdout",
     "output_type": "stream",
     "text": [
      "Order Statistics:\n",
      "Total Products Ordered: 3\n",
      "Percentage of Products Ordered: 60.0%\n"
     ]
    }
   ],
   "source": [
    "# Step 8: Print the order statistics\n",
    "print(\"Order Statistics:\")\n",
    "print(f\"Total Products Ordered: {order_status[0]}\")\n",
    "print(f\"Percentage of Products Ordered: {order_status[1]}%\")"
   ]
  },
  {
   "cell_type": "code",
   "execution_count": 6,
   "id": "0a08a2ce",
   "metadata": {},
   "outputs": [],
   "source": [
    "# Step 9: Update the inventory for products that were ordered\n",
    "for order in customer_orders:\n",
    "    if inventory[order] > 0:\n",
    "        inventory[order] = inventory[order] - 1  # Subtract 1 if in stock\n",
    "    else:\n",
    "        print(f\"Sorry, {order} is out of stock.\")"
   ]
  },
  {
   "cell_type": "code",
   "execution_count": 7,
   "id": "dfd948d7",
   "metadata": {},
   "outputs": [
    {
     "name": "stdout",
     "output_type": "stream",
     "text": [
      "Updated Inventory:\n",
      "t-shirt: 5\n",
      "mug: 5\n",
      "hat: 6\n",
      "book: 7\n",
      "keychain: 9\n"
     ]
    }
   ],
   "source": [
    "# Step 10: Print the updated inventory\n",
    "print(\"Updated Inventory:\")\n",
    "for product, quantity in inventory.items():\n",
    "    print(f\"{product}: {quantity}\")"
   ]
  }
 ],
 "metadata": {
  "kernelspec": {
   "display_name": "Python 3",
   "language": "python",
   "name": "python3"
  },
  "language_info": {
   "codemirror_mode": {
    "name": "ipython",
    "version": 3
   },
   "file_extension": ".py",
   "mimetype": "text/x-python",
   "name": "python",
   "nbconvert_exporter": "python",
   "pygments_lexer": "ipython3",
   "version": "3.14.0a6"
  }
 },
 "nbformat": 4,
 "nbformat_minor": 5
}
